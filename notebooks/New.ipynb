{
 "cells": [
  {
   "cell_type": "markdown",
   "id": "804ac698-1c61-4830-975d-38d417013034",
   "metadata": {},
   "source": [
    "## This is a example of how you will be doing projects in python.\n",
    "### Use markdown cells -OR- comments in cells to place AT LEAST the question number you are working on. "
   ]
  },
  {
   "cell_type": "markdown",
   "id": "90123210-b670-4d62-bbda-010eeac5dba5",
   "metadata": {},
   "source": [
    "3.\tImport the required packages"
   ]
  },
  {
   "cell_type": "code",
   "execution_count": 34,
   "id": "297b1e92-5e76-4e59-8085-d1ac23ff1c4f",
   "metadata": {},
   "outputs": [],
   "source": [
    "import pandas as pd\n",
    "import numpy as np\n",
    "import matplotlib.pyplot as plt\n",
    "import seaborn as sns"
   ]
  },
  {
   "cell_type": "markdown",
   "id": "3f81942c-9dbe-43e8-90fa-ba3e6be8389a",
   "metadata": {},
   "source": [
    "4. Using the pandas `read_csv()` method, read the GDP dataset into your notebook as a DataFrame called `gdp_df`. Take a look at the first few and last few rows to familiarize yourself with what is contained in this dataset."
   ]
  },
  {
   "cell_type": "code",
   "execution_count": 37,
   "id": "9258fe6d-6afa-462f-8197-c484f97cf4c7",
   "metadata": {},
   "outputs": [],
   "source": [
    "gdp_df = pd.read_csv('../data/gdp_percapita.csv')"
   ]
  },
  {
   "cell_type": "markdown",
   "id": "728cd96e-d530-4ddc-a298-b1218d1cdc93",
   "metadata": {},
   "source": [
    "5. How many rows and columns are in `gdp_df`? What are the data types of each column?"
   ]
  },
  {
   "cell_type": "markdown",
   "id": "b1cdb54d-6817-4a19-9cbf-1c505a3b044f",
   "metadata": {},
   "source": [
    "gdp_df.shape"
   ]
  },
  {
   "cell_type": "markdown",
   "id": "6cc07c62-1a58-4460-affa-0635d5c2190e",
   "metadata": {},
   "source": [
    "6. Drop the `Value Footnotes` column and rename the remaining three to 'Country', 'Year', and 'GDP_Per_Capita'."
   ]
  },
  {
   "cell_type": "markdown",
   "id": "fbc8323e-cdb7-45ae-b9c2-9962955289f8",
   "metadata": {},
   "source": [
    "gdp_df_drop = gdp_df.drop('Value Footnotes', 1)"
   ]
  },
  {
   "cell_type": "code",
   "execution_count": 43,
   "id": "bfc29e45-2606-49ea-9f63-450766979af8",
   "metadata": {},
   "outputs": [],
   "source": [
    "gdp_df_drop = gdp_df.drop(columns=['Value Footnotes'])\n"
   ]
  },
  {
   "cell_type": "markdown",
   "id": "87147e1e-4bdc-4fe6-9cdd-cb368392fac9",
   "metadata": {},
   "source": [
    "gdp_df_drop.shape"
   ]
  },
  {
   "cell_type": "code",
   "execution_count": 52,
   "id": "ef3d45a8-8f73-41f3-a2bc-52d6f1961d02",
   "metadata": {},
   "outputs": [],
   "source": [
    "gdp_df_rename = gdp_df.rename(columns={'Country or Area': 'Country', 'Value': 'GDP_Per_Capita'})"
   ]
  },
  {
   "cell_type": "markdown",
   "id": "9253fbe0-3cf6-40a5-b72f-4b1f0875e27f",
   "metadata": {},
   "source": [
    "7. How many countries have data for all years? Which countries are missing many years of data? Look at the number of observations per year. What do you notice? "
   ]
  },
  {
   "cell_type": "code",
   "execution_count": 54,
   "id": "dc5ccab5-b99f-4512-80a2-e72c9fd874cf",
   "metadata": {},
   "outputs": [],
   "source": [
    "gdp_df='year'"
   ]
  },
  {
   "cell_type": "code",
   "execution_count": null,
   "id": "c8c7fc05-03d9-4ac2-8624-5510c4844f9d",
   "metadata": {},
   "outputs": [],
   "source": []
  }
 ],
 "metadata": {
  "kernelspec": {
   "display_name": "Python [conda env:base] *",
   "language": "python",
   "name": "conda-base-py"
  },
  "language_info": {
   "codemirror_mode": {
    "name": "ipython",
    "version": 3
   },
   "file_extension": ".py",
   "mimetype": "text/x-python",
   "name": "python",
   "nbconvert_exporter": "python",
   "pygments_lexer": "ipython3",
   "version": "3.12.7"
  }
 },
 "nbformat": 4,
 "nbformat_minor": 5
}
